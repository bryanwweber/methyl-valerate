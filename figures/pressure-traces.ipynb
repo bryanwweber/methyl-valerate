{
 "cells": [
  {
   "cell_type": "code",
   "execution_count": 1,
   "metadata": {},
   "outputs": [],
   "source": [
    "import matplotlib as mpl\n",
    "mpl.use(\"pgf\")\n",
    "import numpy as np\n",
    "mm_to_in = 1/25.4\n",
    "pgf_with_pdflatex = {\n",
    "    \"pgf.texsystem\": \"pdflatex\",\n",
    "    \"pgf.preamble\": [\n",
    "         r\"\\usepackage{mathtools}\",\n",
    "         ],\n",
    "    \"text.usetex\": True,\n",
    "    \"figure.figsize\": [190*mm_to_in, 3.0],\n",
    "    \"axes.labelsize\": 10,\n",
    "    \"axes.labelpad\": 5.0,\n",
    "    \"font.size\": 12,\n",
    "    \"font.family\": \"serif\",\n",
    "    \"legend.fontsize\": 8,\n",
    "    \"xtick.labelsize\": 9,\n",
    "    \"ytick.labelsize\": 9,\n",
    "    \"lines.linewidth\": 1.5,\n",
    "    \"xtick.major.size\": 5,\n",
    "    \"xtick.major.width\": 1,\n",
    "    \"xtick.minor.size\": 2.5,\n",
    "    \"xtick.minor.width\": 1,\n",
    "    \"ytick.major.size\": 5,\n",
    "    \"ytick.major.width\": 1,\n",
    "    \"ytick.minor.size\": 2.5,\n",
    "    \"ytick.minor.width\": 1,\n",
    "}\n",
    "mpl.rcParams.update(pgf_with_pdflatex)\n",
    "\n",
    "import numpy as np\n",
    "import pandas as pd\n",
    "import matplotlib.pyplot as plt\n",
    "from matplotlib.legend_handler import HandlerLine2D\n",
    "from matplotlib.ticker import FormatStrFormatter\n",
    "from cycler import cycler\n",
    "from pathlib import Path"
   ]
  },
  {
   "cell_type": "code",
   "execution_count": 2,
   "metadata": {},
   "outputs": [],
   "source": [
    "phi_1_files = [Path('pressure-traces')/p for p in [Path('Tc_700K_P0_2.1851_T0_353K_pressure.txt'), Path('Tc_733K_P0_1.8041_T0_353K_pressure.txt'), Path('Tc_774K_P0_1.4504_T0_353K_pressure.txt')]]\n",
    "phi_2_files = [Path('pressure-traces')/p for p in [Path('Tc_698K_P0_0.7118_T0_373K_pressure.txt'), Path('Tc_720K_P0_0.7806_T0_373K_pressure.txt'), Path('Tc_782K_P0_0.7995_T0_413K_pressure.txt')]]"
   ]
  },
  {
   "cell_type": "code",
   "execution_count": 3,
   "metadata": {},
   "outputs": [],
   "source": [
    "data = pd.read_csv('pressure-traces/complete-data-set.csv')\n",
    "\n",
    "phi_200_15_bar = data[(data['Equivalence Ratio'] == 2.00) &\n",
    "                      (np.isclose(data['Compressed Pressure (bar)'], 15, rtol=1E-2))]\n",
    "phi_100_30_bar = data[(data['Equivalence Ratio'] == 1.00) &\n",
    "                      (np.isclose(data['Compressed Pressure (bar)'], 30, rtol=1E-2))]\n",
    "\n",
    "phi_1_temps = phi_100_30_bar['Compressed Temperature (K)'].iloc[[1, 3, 5]]\n",
    "phi_1_comp_times = phi_100_30_bar['Compression Time (ms)'].iloc[[1, 3, 5]]\n",
    "phi_1_comp_times.iloc[1] += 0.5\n",
    "phi_2_temps = phi_200_15_bar['Compressed Temperature (K)'].iloc[[3, 5, 11]]\n",
    "phi_2_comp_times = phi_200_15_bar['Compression Time (ms)'].iloc[[3, 5, 11]]"
   ]
  },
  {
   "cell_type": "code",
   "execution_count": 4,
   "metadata": {},
   "outputs": [
    {
     "data": {
      "text/plain": [
       "<matplotlib.text.Text at 0x7f9efbc846a0>"
      ]
     },
     "execution_count": 4,
     "metadata": {},
     "output_type": "execute_result"
    }
   ],
   "source": [
    "fig, (ax_phi_1, ax_phi_2) = plt.subplots(ncols=2)\n",
    "\n",
    "for i, f in enumerate(phi_1_files):\n",
    "    data = np.loadtxt(str(f))\n",
    "    max_idx = np.argmax(data[:, 1])\n",
    "    ax_phi_1.plot(data[:max_idx, 0]*1000 - phi_1_comp_times.iloc[i], data[:max_idx, 1], label='$T_C = {}$ K'.format(phi_1_temps.iloc[i]))\n",
    "    \n",
    "nrdata = np.loadtxt('pressure-traces/NR_Tc_700K_P0_2.1851_T0_353K_pressure.txt')\n",
    "ax_phi_1.plot(nrdata[:, 0]*1000 - phi_1_comp_times.iloc[0] - 0.5, nrdata[:, 1], label='Non-Reactive')\n",
    "\n",
    "ax_phi_1.minorticks_on()\n",
    "\n",
    "ax_phi_1.set_xlim(-20, 15)\n",
    "ax_phi_1.set_ylim(0, 60)\n",
    "ax_phi_1.set_ylabel('Pressure, bar')\n",
    "ax_phi_1.set_xlabel('Time, ms')\n",
    "ax_phi_1.legend(loc='upper center')\n",
    "ax_phi_1.text(0.75, 0.05, 'a) $\\phi=1.0$', transform=ax_phi_1.transAxes)\n",
    "\n",
    "for i, f in enumerate(phi_2_files):\n",
    "    data = np.loadtxt(str(f))\n",
    "    max_idx = np.argmax(data[:, 1])\n",
    "    ax_phi_2.plot(data[:max_idx, 0]*1000 - phi_2_comp_times.iloc[i], data[:max_idx, 1], label='$T_C = {}$ K'.format(phi_2_temps.iloc[i]))\n",
    "\n",
    "nrdata = np.loadtxt('pressure-traces/NR_Tc_698K_P0_0.7118_T0_373K_pressure.txt')\n",
    "ax_phi_2.plot(nrdata[:, 0]*1000 - phi_2_comp_times.iloc[0] + 0.5, nrdata[:, 1], label='Non-Reactive')\n",
    "\n",
    "ax_phi_2.minorticks_on()\n",
    "\n",
    "ax_phi_2.set_xlim(-20, 40)\n",
    "ax_phi_2.set_ylim(0, 25)\n",
    "ax_phi_2.set_xlabel('Time, ms')\n",
    "ax_phi_2.legend(loc='upper center')\n",
    "ax_phi_2.text(0.75, 0.05, 'b) $\\phi=2.0$', transform=ax_phi_2.transAxes)"
   ]
  },
  {
   "cell_type": "code",
   "execution_count": 5,
   "metadata": {},
   "outputs": [],
   "source": [
    "fig.tight_layout()\n",
    "fig.savefig('pressure-traces.pdf')"
   ]
  }
 ],
 "metadata": {
  "kernelspec": {
   "display_name": "Python [default]",
   "language": "python",
   "name": "python3"
  },
  "language_info": {
   "codemirror_mode": {
    "name": "ipython",
    "version": 3
   },
   "file_extension": ".py",
   "mimetype": "text/x-python",
   "name": "python",
   "nbconvert_exporter": "python",
   "pygments_lexer": "ipython3",
   "version": "3.6.1"
  }
 },
 "nbformat": 4,
 "nbformat_minor": 1
}
