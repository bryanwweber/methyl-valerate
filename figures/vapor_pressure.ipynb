{
 "cells": [
  {
   "cell_type": "code",
   "execution_count": 1,
   "metadata": {},
   "outputs": [
    {
     "name": "stdout",
     "output_type": "stream",
     "text": [
      "0.19.0\n"
     ]
    }
   ],
   "source": [
    "import matplotlib as mpl\n",
    "mpl.use(\"pgf\")\n",
    "import numpy as np\n",
    "mm_to_in = 1/25.4\n",
    "pgf_with_pdflatex = {\n",
    "    \"pgf.texsystem\": \"pdflatex\",\n",
    "    \"pgf.preamble\": [\n",
    "         r\"\\usepackage{mathtools}\",\n",
    "         ],\n",
    "    \"text.usetex\": True,\n",
    "    \"figure.figsize\": [90*mm_to_in, 3.25],\n",
    "    \"axes.labelsize\": 10,\n",
    "    \"axes.labelpad\": 5.0,\n",
    "    \"font.size\": 12,\n",
    "    \"font.family\": \"serif\",\n",
    "    \"legend.fontsize\": 8,\n",
    "    \"xtick.labelsize\": 9,\n",
    "    \"ytick.labelsize\": 9,\n",
    "    \"lines.linewidth\": 1.5,\n",
    "    \"xtick.major.size\": 5,\n",
    "    \"xtick.major.width\": 1,\n",
    "    \"xtick.minor.size\": 2.5,\n",
    "    \"xtick.minor.width\": 1,\n",
    "    \"ytick.major.size\": 5,\n",
    "    \"ytick.major.width\": 1,\n",
    "    \"ytick.minor.size\": 2.5,\n",
    "    \"ytick.minor.width\": 1,\n",
    "}\n",
    "mpl.rcParams.update(pgf_with_pdflatex)\n",
    "\n",
    "from scipy.optimize import curve_fit\n",
    "from scipy import __version__\n",
    "print(__version__)\n",
    "import matplotlib.pyplot as plt\n",
    "from matplotlib.ticker import MaxNLocator, AutoMinorLocator"
   ]
  },
  {
   "cell_type": "code",
   "execution_count": 2,
   "metadata": {},
   "outputs": [
    {
     "name": "stdout",
     "output_type": "stream",
     "text": [
      "[    6.40297589  1528.68913524    52.88138973]\n",
      "[  0.09186087  53.47122789   4.93379075]\n",
      "[    6.21051367  1415.38995238    63.91337448]\n"
     ]
    }
   ],
   "source": [
    "def antoine(T, A, B, C):\n",
    "    return A - B/(T - C)\n",
    "ortega_data = np.loadtxt('vapor_pressure/ortega.csv', delimiter=',')\n",
    "vanGenderen_data = np.loadtxt('vapor_pressure/vanGenderen.csv', delimiter=',')\n",
    "verevkin_data = np.loadtxt('vapor_pressure/verevkin.csv', delimiter=',')\n",
    "all_data = np.vstack((ortega_data, vanGenderen_data, verevkin_data))\n",
    "all_data = all_data[all_data[:, 0].argsort()]\n",
    "coeffs, cov_mat = curve_fit(antoine, all_data[:, 0], np.log10(all_data[:, 1]), p0=[6, 1500, 50], maxfev=10000)\n",
    "print(coeffs)\n",
    "conf_int = 2*np.sqrt(np.diag(cov_mat))\n",
    "print(conf_int)\n",
    "ortega_fit, _ = curve_fit(antoine, ortega_data[:, 0], np.log10(ortega_data[:, 1]), p0=[6, 1500, 50])\n",
    "print(ortega_fit)"
   ]
  },
  {
   "cell_type": "code",
   "execution_count": 3,
   "metadata": {
    "collapsed": true
   },
   "outputs": [],
   "source": [
    "ortega = np.array([6.23175, 1429.00, 62.30])\n",
    "camacho = np.array([5.9644, 1281.06, 75.94])\n",
    "stephenson = np.array([6.62646, 1658.4, 42.09])"
   ]
  },
  {
   "cell_type": "code",
   "execution_count": 4,
   "metadata": {
    "collapsed": true
   },
   "outputs": [],
   "source": [
    "temps = np.arange(np.floor(all_data[0, 0]), np.ceil(all_data[-1, 0]), 1)"
   ]
  },
  {
   "cell_type": "code",
   "execution_count": 20,
   "metadata": {},
   "outputs": [
    {
     "ename": "AttributeError",
     "evalue": "'NoneType' object has no attribute 'create_artists'",
     "output_type": "error",
     "traceback": [
      "\u001b[0;31m---------------------------------------------------------------------------\u001b[0m",
      "\u001b[0;31mAttributeError\u001b[0m                            Traceback (most recent call last)",
      "\u001b[0;32m<ipython-input-20-efa00dff8e00>\u001b[0m in \u001b[0;36m<module>\u001b[0;34m()\u001b[0m\n\u001b[1;32m     17\u001b[0m \u001b[0mfit_fill\u001b[0m \u001b[0;34m=\u001b[0m \u001b[0max\u001b[0m\u001b[0;34m.\u001b[0m\u001b[0mfill\u001b[0m\u001b[0;34m(\u001b[0m\u001b[0mnp\u001b[0m\u001b[0;34m.\u001b[0m\u001b[0mNaN\u001b[0m\u001b[0;34m,\u001b[0m \u001b[0mnp\u001b[0m\u001b[0;34m.\u001b[0m\u001b[0mNaN\u001b[0m\u001b[0;34m,\u001b[0m \u001b[0mfacecolor\u001b[0m\u001b[0;34m=\u001b[0m\u001b[0;34m'C2'\u001b[0m\u001b[0;34m,\u001b[0m \u001b[0malpha\u001b[0m\u001b[0;34m=\u001b[0m\u001b[0;36m0.5\u001b[0m\u001b[0;34m)\u001b[0m\u001b[0;34m\u001b[0m\u001b[0m\n\u001b[1;32m     18\u001b[0m \u001b[0;31m# handles, labels = ax.get_legend_handles_labels()\u001b[0m\u001b[0;34m\u001b[0m\u001b[0;34m\u001b[0m\u001b[0m\n\u001b[0;32m---> 19\u001b[0;31m \u001b[0max\u001b[0m\u001b[0;34m.\u001b[0m\u001b[0mlegend\u001b[0m\u001b[0;34m(\u001b[0m\u001b[0;34m[\u001b[0m\u001b[0mortega\u001b[0m\u001b[0;34m,\u001b[0m \u001b[0mvanGen\u001b[0m\u001b[0;34m,\u001b[0m \u001b[0mverevkin\u001b[0m\u001b[0;34m,\u001b[0m \u001b[0;34m(\u001b[0m\u001b[0mfit_line\u001b[0m\u001b[0;34m,\u001b[0m \u001b[0mfit_fill\u001b[0m\u001b[0;34m)\u001b[0m\u001b[0;34m]\u001b[0m\u001b[0;34m,\u001b[0m \u001b[0;34m[\u001b[0m\u001b[0;34m'Ortega'\u001b[0m\u001b[0;34m,\u001b[0m \u001b[0;34m'van Gen'\u001b[0m\u001b[0;34m,\u001b[0m \u001b[0;34m'Verevkin'\u001b[0m\u001b[0;34m,\u001b[0m \u001b[0;34m'This Work'\u001b[0m\u001b[0;34m]\u001b[0m\u001b[0;34m,\u001b[0m \u001b[0mloc\u001b[0m\u001b[0;34m=\u001b[0m\u001b[0;34m'best'\u001b[0m\u001b[0;34m)\u001b[0m\u001b[0;34m;\u001b[0m\u001b[0;34m\u001b[0m\u001b[0m\n\u001b[0m\u001b[1;32m     20\u001b[0m \u001b[0;31m# ax.legend(loc='best');\u001b[0m\u001b[0;34m\u001b[0m\u001b[0;34m\u001b[0m\u001b[0m\n",
      "\u001b[0;32m~/miniconda3/lib/python3.6/site-packages/matplotlib/axes/_axes.py\u001b[0m in \u001b[0;36mlegend\u001b[0;34m(self, *args, **kwargs)\u001b[0m\n\u001b[1;32m    562\u001b[0m             \u001b[0;32mraise\u001b[0m \u001b[0mTypeError\u001b[0m\u001b[0;34m(\u001b[0m\u001b[0;34m'Invalid arguments to legend.'\u001b[0m\u001b[0;34m)\u001b[0m\u001b[0;34m\u001b[0m\u001b[0m\n\u001b[1;32m    563\u001b[0m \u001b[0;34m\u001b[0m\u001b[0m\n\u001b[0;32m--> 564\u001b[0;31m         \u001b[0mself\u001b[0m\u001b[0;34m.\u001b[0m\u001b[0mlegend_\u001b[0m \u001b[0;34m=\u001b[0m \u001b[0mmlegend\u001b[0m\u001b[0;34m.\u001b[0m\u001b[0mLegend\u001b[0m\u001b[0;34m(\u001b[0m\u001b[0mself\u001b[0m\u001b[0;34m,\u001b[0m \u001b[0mhandles\u001b[0m\u001b[0;34m,\u001b[0m \u001b[0mlabels\u001b[0m\u001b[0;34m,\u001b[0m \u001b[0;34m**\u001b[0m\u001b[0mkwargs\u001b[0m\u001b[0;34m)\u001b[0m\u001b[0;34m\u001b[0m\u001b[0m\n\u001b[0m\u001b[1;32m    565\u001b[0m         \u001b[0mself\u001b[0m\u001b[0;34m.\u001b[0m\u001b[0mlegend_\u001b[0m\u001b[0;34m.\u001b[0m\u001b[0m_remove_method\u001b[0m \u001b[0;34m=\u001b[0m \u001b[0;32mlambda\u001b[0m \u001b[0mh\u001b[0m\u001b[0;34m:\u001b[0m \u001b[0msetattr\u001b[0m\u001b[0;34m(\u001b[0m\u001b[0mself\u001b[0m\u001b[0;34m,\u001b[0m \u001b[0;34m'legend_'\u001b[0m\u001b[0;34m,\u001b[0m \u001b[0;32mNone\u001b[0m\u001b[0;34m)\u001b[0m\u001b[0;34m\u001b[0m\u001b[0m\n\u001b[1;32m    566\u001b[0m         \u001b[0;32mreturn\u001b[0m \u001b[0mself\u001b[0m\u001b[0;34m.\u001b[0m\u001b[0mlegend_\u001b[0m\u001b[0;34m\u001b[0m\u001b[0m\n",
      "\u001b[0;32m~/miniconda3/lib/python3.6/site-packages/matplotlib/legend.py\u001b[0m in \u001b[0;36m__init__\u001b[0;34m(self, parent, handles, labels, loc, numpoints, markerscale, markerfirst, scatterpoints, scatteryoffsets, prop, fontsize, borderpad, labelspacing, handlelength, handleheight, handletextpad, borderaxespad, columnspacing, ncol, mode, fancybox, shadow, title, framealpha, edgecolor, facecolor, bbox_to_anchor, bbox_transform, frameon, handler_map)\u001b[0m\n\u001b[1;32m    384\u001b[0m \u001b[0;34m\u001b[0m\u001b[0m\n\u001b[1;32m    385\u001b[0m         \u001b[0;31m# init with null renderer\u001b[0m\u001b[0;34m\u001b[0m\u001b[0;34m\u001b[0m\u001b[0m\n\u001b[0;32m--> 386\u001b[0;31m         \u001b[0mself\u001b[0m\u001b[0;34m.\u001b[0m\u001b[0m_init_legend_box\u001b[0m\u001b[0;34m(\u001b[0m\u001b[0mhandles\u001b[0m\u001b[0;34m,\u001b[0m \u001b[0mlabels\u001b[0m\u001b[0;34m,\u001b[0m \u001b[0mmarkerfirst\u001b[0m\u001b[0;34m)\u001b[0m\u001b[0;34m\u001b[0m\u001b[0m\n\u001b[0m\u001b[1;32m    387\u001b[0m \u001b[0;34m\u001b[0m\u001b[0m\n\u001b[1;32m    388\u001b[0m         \u001b[0;32mif\u001b[0m \u001b[0mframealpha\u001b[0m \u001b[0;32mis\u001b[0m \u001b[0;32mNone\u001b[0m\u001b[0;34m:\u001b[0m\u001b[0;34m\u001b[0m\u001b[0m\n",
      "\u001b[0;32m~/miniconda3/lib/python3.6/site-packages/matplotlib/legend.py\u001b[0m in \u001b[0;36m_init_legend_box\u001b[0;34m(self, handles, labels, markerfirst)\u001b[0m\n\u001b[1;32m    653\u001b[0m                 \u001b[0;31m# original artist/handle.\u001b[0m\u001b[0;34m\u001b[0m\u001b[0;34m\u001b[0m\u001b[0m\n\u001b[1;32m    654\u001b[0m                 handle_list.append(handler.legend_artist(self, orig_handle,\n\u001b[0;32m--> 655\u001b[0;31m                                                          fontsize, handlebox))\n\u001b[0m\u001b[1;32m    656\u001b[0m \u001b[0;34m\u001b[0m\u001b[0m\n\u001b[1;32m    657\u001b[0m         \u001b[0;32mif\u001b[0m \u001b[0mlen\u001b[0m\u001b[0;34m(\u001b[0m\u001b[0mhandleboxes\u001b[0m\u001b[0;34m)\u001b[0m \u001b[0;34m>\u001b[0m \u001b[0;36m0\u001b[0m\u001b[0;34m:\u001b[0m\u001b[0;34m\u001b[0m\u001b[0m\n",
      "\u001b[0;32m~/miniconda3/lib/python3.6/site-packages/matplotlib/legend_handler.py\u001b[0m in \u001b[0;36mlegend_artist\u001b[0;34m(self, legend, orig_handle, fontsize, handlebox)\u001b[0m\n\u001b[1;32m    117\u001b[0m         artists = self.create_artists(legend, orig_handle,\n\u001b[1;32m    118\u001b[0m                                       \u001b[0mxdescent\u001b[0m\u001b[0;34m,\u001b[0m \u001b[0mydescent\u001b[0m\u001b[0;34m,\u001b[0m \u001b[0mwidth\u001b[0m\u001b[0;34m,\u001b[0m \u001b[0mheight\u001b[0m\u001b[0;34m,\u001b[0m\u001b[0;34m\u001b[0m\u001b[0m\n\u001b[0;32m--> 119\u001b[0;31m                                       fontsize, handlebox.get_transform())\n\u001b[0m\u001b[1;32m    120\u001b[0m \u001b[0;34m\u001b[0m\u001b[0m\n\u001b[1;32m    121\u001b[0m         \u001b[0;31m# create_artists will return a list of artists.\u001b[0m\u001b[0;34m\u001b[0m\u001b[0;34m\u001b[0m\u001b[0m\n",
      "\u001b[0;32m~/miniconda3/lib/python3.6/site-packages/matplotlib/legend_handler.py\u001b[0m in \u001b[0;36mcreate_artists\u001b[0;34m(self, legend, orig_handle, xdescent, ydescent, width, height, fontsize, trans)\u001b[0m\n\u001b[1;32m    578\u001b[0m         \u001b[0;32mfor\u001b[0m \u001b[0mhandle1\u001b[0m \u001b[0;32min\u001b[0m \u001b[0morig_handle\u001b[0m\u001b[0;34m:\u001b[0m\u001b[0;34m\u001b[0m\u001b[0m\n\u001b[1;32m    579\u001b[0m             \u001b[0mhandler\u001b[0m \u001b[0;34m=\u001b[0m \u001b[0mlegend\u001b[0m\u001b[0;34m.\u001b[0m\u001b[0mget_legend_handler\u001b[0m\u001b[0;34m(\u001b[0m\u001b[0mhandler_map\u001b[0m\u001b[0;34m,\u001b[0m \u001b[0mhandle1\u001b[0m\u001b[0;34m)\u001b[0m\u001b[0;34m\u001b[0m\u001b[0m\n\u001b[0;32m--> 580\u001b[0;31m             _a_list = handler.create_artists(legend, handle1,\n\u001b[0m\u001b[1;32m    581\u001b[0m                                              \u001b[0mxdescent\u001b[0m\u001b[0;34m,\u001b[0m \u001b[0mydescent\u001b[0m\u001b[0;34m,\u001b[0m \u001b[0mwidth\u001b[0m\u001b[0;34m,\u001b[0m \u001b[0mheight\u001b[0m\u001b[0;34m,\u001b[0m\u001b[0;34m\u001b[0m\u001b[0m\n\u001b[1;32m    582\u001b[0m                                              \u001b[0mfontsize\u001b[0m\u001b[0;34m,\u001b[0m\u001b[0;34m\u001b[0m\u001b[0m\n",
      "\u001b[0;31mAttributeError\u001b[0m: 'NoneType' object has no attribute 'create_artists'"
     ]
    }
   ],
   "source": [
    "fig, ax = plt.subplots()\n",
    "ax.set_yscale('log')\n",
    "ax.set_xlabel('$T$, K', labelpad=5.0)\n",
    "ax.set_ylabel(r'$P_{\\text{sat}}$, kPa', labelpad=2.0)\n",
    "ax.set_ylim(0.5E-1, 2.0E2)\n",
    "ax.set_xlim(270, 430)\n",
    "ax.xaxis.set_major_locator(MaxNLocator(6))\n",
    "ax.xaxis.set_minor_locator(AutoMinorLocator(3))\n",
    "# ax.plot(temps, 10**antoine(temps, *ortega), label=r\"Ortega et al.\\ \\cite{Ortega2003}\")\n",
    "ortega, = ax.plot(ortega_data[:, 0], ortega_data[:, 1], marker='o', linestyle='None', label=r\"Ortega et al.\\ \\cite{Ortega2003}\", markersize=3)\n",
    "# ax.plot(temps, 10**antoine(temps, *camacho), label=r\"Camacho et al.\\ \\cite{Camacho2007}\")\n",
    "# ax.plot(temps, 10**antoine(temps, *stephenson), label=r\"Stephenson et al.\\ \\cite{Stephenson1987}\")\n",
    "vanGen, = ax.plot(vanGenderen_data[:, 0], vanGenderen_data[:, 1], marker='x', linestyle='None', label=r\"van Genderen et al.\\ \\cite{vanGenderen2002}\")\n",
    "verevkin, = ax.plot(verevkin_data[:, 0], verevkin_data[:, 1], marker='+', linestyle='None', label=r\"Verevkin and Emel'yanenko \\cite{Verevkin2008}\")\n",
    "fit_line, = ax.plot(temps, 10**antoine(temps, *coeffs), label=\"This Work\")\n",
    "ax.fill_between(temps, 10**antoine(temps, *(coeffs+conf_int)), 10**antoine(temps, *(coeffs-conf_int)), alpha=0.5, facecolor='C2',)\n",
    "fit_fill = ax.fill(np.NaN, np.NaN, facecolor='C2', alpha=0.5)\n",
    "# handles, labels = ax.get_legend_handles_labels()\n",
    "ax.legend([ortega, vanGen, verevkin, (fit_line, fit_fill)], ['Ortega', 'van Gen', 'Verevkin', 'This Work'], loc='best');\n",
    "# ax.legend(loc='best');"
   ]
  },
  {
   "cell_type": "code",
   "execution_count": 18,
   "metadata": {
    "collapsed": true
   },
   "outputs": [],
   "source": [
    "fig.tight_layout()\n",
    "fig.savefig('vapor_pressure.pdf')"
   ]
  },
  {
   "cell_type": "code",
   "execution_count": null,
   "metadata": {
    "collapsed": true
   },
   "outputs": [],
   "source": []
  }
 ],
 "metadata": {
  "kernelspec": {
   "display_name": "Python [default]",
   "language": "python",
   "name": "python3"
  },
  "language_info": {
   "codemirror_mode": {
    "name": "ipython",
    "version": 3
   },
   "file_extension": ".py",
   "mimetype": "text/x-python",
   "name": "python",
   "nbconvert_exporter": "python",
   "pygments_lexer": "ipython3",
   "version": "3.6.1"
  }
 },
 "nbformat": 4,
 "nbformat_minor": 1
}
