{
 "cells": [
  {
   "cell_type": "code",
   "execution_count": 1,
   "metadata": {
    "collapsed": true
   },
   "outputs": [],
   "source": [
    "import matplotlib as mpl\n",
    "mpl.use(\"pgf\")\n",
    "import numpy as np\n",
    "mm_to_in = 1/25.4\n",
    "pgf_with_pdflatex = {\n",
    "    \"pgf.texsystem\": \"pdflatex\",\n",
    "    \"pgf.preamble\": [\n",
    "         r\"\\usepackage{mathtools}\",\n",
    "         ],\n",
    "    \"text.usetex\": True,\n",
    "    \"figure.figsize\": [190*mm_to_in, 3.0],\n",
    "    \"axes.labelsize\": 10,\n",
    "    \"axes.labelpad\": 5.0,\n",
    "    \"font.size\": 12,\n",
    "    \"font.family\": \"serif\",\n",
    "    \"legend.fontsize\": 8,\n",
    "    \"xtick.labelsize\": 9,\n",
    "    \"ytick.labelsize\": 9,\n",
    "    \"lines.linewidth\": 1.5,\n",
    "    \"xtick.major.size\": 5,\n",
    "    \"xtick.major.width\": 1,\n",
    "    \"xtick.minor.size\": 2.5,\n",
    "    \"xtick.minor.width\": 1,\n",
    "    \"ytick.major.size\": 5,\n",
    "    \"ytick.major.width\": 1,\n",
    "    \"ytick.minor.size\": 2.5,\n",
    "    \"ytick.minor.width\": 1,\n",
    "}\n",
    "mpl.rcParams.update(pgf_with_pdflatex)\n",
    "import pandas as pd\n",
    "from pathlib import Path\n",
    "import matplotlib.pyplot as plt\n",
    "from matplotlib.ticker import FormatStrFormatter, AutoMinorLocator\n",
    "from matplotlib.lines import Line2D\n",
    "from scipy.interpolate import UnivariateSpline\n",
    "base = Path('simulation-comparison')"
   ]
  },
  {
   "cell_type": "code",
   "execution_count": 2,
   "metadata": {
    "collapsed": true
   },
   "outputs": [],
   "source": [
    "data = pd.read_csv(base/'complete-data-set-w-sims.csv')\n",
    "\n",
    "phi_200_15_bar = data[(data['Equivalence Ratio'] == 2.00) &\n",
    "                      (np.isclose(data['Compressed Pressure (bar)'], 15, rtol=1.0E-2))][::-1]\n",
    "phi_100_15_bar = data[(data['Equivalence Ratio'] == 1.00) &\n",
    "                      (np.isclose(data['Compressed Pressure (bar)'], 15, rtol=1.0E-2))][::-1]\n",
    "phi_100_30_bar = data[(data['Equivalence Ratio'] == 1.00) &\n",
    "                      (np.isclose(data['Compressed Pressure (bar)'], 30, rtol=1.0E-2))][::-1]\n",
    "phi_050_15_bar = data[(data['Equivalence Ratio'] == 0.50) &\n",
    "                      (np.isclose(data['Compressed Pressure (bar)'], 15, rtol=1.0E-1))][::-1]\n",
    "phi_050_30_bar = data[(data['Equivalence Ratio'] == 0.50) &\n",
    "                      (np.isclose(data['Compressed Pressure (bar)'], 30, rtol=1.0E-2))][::-1]\n",
    "phi_025_15_bar = data[(data['Equivalence Ratio'] == 0.25) &\n",
    "                      (np.isclose(data['Compressed Pressure (bar)'], 15, rtol=1.0E-2))][::-1]\n",
    "phi_025_30_bar = data[(data['Equivalence Ratio'] == 0.25) &\n",
    "                      (np.isclose(data['Compressed Pressure (bar)'], 30, rtol=1.0E-2))][::-1]"
   ]
  },
  {
   "cell_type": "code",
   "execution_count": 3,
   "metadata": {},
   "outputs": [],
   "source": [
    "fig, (ax_15_bar, ax_30_bar) = plt.subplots(ncols=2)\n",
    "\n",
    "ax_15_bar.set_yscale('log')\n",
    "ax_30_bar.set_yscale('log')\n",
    "\n",
    "plot_opts = {'markersize': 5, 'fmt': '', 'elinewidth': 1.5, 'capthick': 1.5, 'linestyle': 'None'}\n",
    "\n",
    "phi_025_color = 'C0'\n",
    "phi_050_color = 'C1'\n",
    "phi_100_color = 'C2'\n",
    "phi_200_color = 'C3'\n",
    "phi_025_marker = 'o'\n",
    "phi_050_marker = 's'\n",
    "phi_100_marker = 'd'\n",
    "phi_200_marker = '^'\n",
    "\n",
    "ax_15_bar.errorbar(phi_025_15_bar['1000/Tc (1/K)'], phi_025_15_bar['Ignition Delay (ms)'], yerr=np.array(phi_025_15_bar['Ignition Delay Error (ms)']), label=r'$\\phi=0.25$', marker=phi_025_marker, color=phi_025_color, **plot_opts)\n",
    "ax_15_bar.errorbar(phi_025_15_bar['1000/Tc (1/K)'].iloc[[0, -1]], phi_025_15_bar['Ignition Delay (ms)'].iloc[[0, -1]], xerr=0.01*np.array(phi_025_15_bar['1000/Tc (1/K)'].iloc[[0, -1]]), label='_ignored', fmt='none', ecolor=phi_025_color, elinewidth=plot_opts['elinewidth'], capthick=plot_opts['capthick'])\n",
    "ax_15_bar.errorbar(phi_050_15_bar['1000/Tc (1/K)'], phi_050_15_bar['Ignition Delay (ms)'], yerr=np.array(phi_050_15_bar['Ignition Delay Error (ms)']), label=r'$\\phi=0.50$', marker=phi_050_marker, color=phi_050_color, **plot_opts)\n",
    "ax_15_bar.errorbar(phi_050_15_bar['1000/Tc (1/K)'].iloc[[0, -1]], phi_050_15_bar['Ignition Delay (ms)'].iloc[[0, -1]], xerr=0.01*np.array(phi_050_15_bar['1000/Tc (1/K)'].iloc[[0, -1]]), label='_ignored', fmt='none', ecolor=phi_050_color, elinewidth=plot_opts['elinewidth'], capthick=plot_opts['capthick'])\n",
    "ax_15_bar.errorbar(phi_200_15_bar['1000/Tc (1/K)'], phi_200_15_bar['Ignition Delay (ms)'], yerr=np.array(phi_200_15_bar['Ignition Delay Error (ms)']), label=r'$\\phi=2.00$', marker=phi_200_marker, color=phi_200_color, **plot_opts)\n",
    "ax_15_bar.errorbar(phi_200_15_bar['1000/Tc (1/K)'].iloc[[0, -1]], phi_200_15_bar['Ignition Delay (ms)'].iloc[[0, -1]], xerr=0.01*np.array(phi_200_15_bar['1000/Tc (1/K)'].iloc[[0, -1]]), label='_ignored', fmt='none', ecolor=phi_200_color, elinewidth=plot_opts['elinewidth'], capthick=plot_opts['capthick'])\n",
    "(_, phi_200_tau1_caps, _) = ax_15_bar.errorbar(phi_200_15_bar['1000/Tc (1/K)'], phi_200_15_bar['First Stage Delay (ms)'], yerr=np.array(phi_200_15_bar['First Stage Error (ms)']), marker=phi_200_marker, color=phi_200_color, label='_ignored', markerfacecolor='none', markeredgewidth='1.0', **plot_opts)\n",
    "\n",
    "ax_30_bar.errorbar(phi_100_30_bar['1000/Tc (1/K)'], phi_100_30_bar['Ignition Delay (ms)'], yerr=np.array(phi_100_30_bar['Ignition Delay Error (ms)']), label=r'$\\phi=1.00$', marker=phi_100_marker, color=phi_100_color, **plot_opts)\n",
    "ax_30_bar.errorbar(phi_100_30_bar['1000/Tc (1/K)'].iloc[[0, -1]], phi_100_30_bar['Ignition Delay (ms)'].iloc[[0, -1]], xerr=0.01*np.array(phi_100_30_bar['1000/Tc (1/K)'].iloc[[0, -1]]), label='_ignored', fmt='none', ecolor=phi_100_color, elinewidth=plot_opts['elinewidth'], capthick=plot_opts['capthick'])\n",
    "(_, phi_100_tau1_caps, _) = ax_30_bar.errorbar(phi_100_30_bar['1000/Tc (1/K)'].loc[phi_100_30_bar['First Stage Delay (ms)'] != 0], phi_100_30_bar['First Stage Delay (ms)'].loc[phi_100_30_bar['First Stage Delay (ms)'] != 0], yerr=np.array(phi_100_30_bar['First Stage Error (ms)'].loc[phi_100_30_bar['First Stage Delay (ms)'] != 0]), marker=phi_100_marker, color=phi_100_color, markerfacecolor='none', markeredgewidth='1.0', **plot_opts)\n",
    "# Set y limits\n",
    "ax_15_bar.set_ylim(1, 200)\n",
    "ax_30_bar.set_ylim(1, 200)\n",
    "\n",
    "# Set the formatting of the y tick labels\n",
    "ax_15_bar.yaxis.set_major_formatter(FormatStrFormatter('%d'))\n",
    "ax_30_bar.yaxis.set_major_formatter(FormatStrFormatter('%d'))\n",
    "ax_15_bar.xaxis.set_minor_locator(AutoMinorLocator(4))\n",
    "ax_30_bar.xaxis.set_minor_locator(AutoMinorLocator(4))\n",
    "\n",
    "# Set x limits\n",
    "ax_15_bar.set_xlim(0.94, 1.55)\n",
    "ax_30_bar.set_xlim(1.1, 1.55)\n",
    "\n",
    "# Make the error bar caps thicker\n",
    "for c in (phi_200_tau1_caps + phi_100_tau1_caps):\n",
    "    c.set_markeredgewidth(1.5)\n",
    "\n",
    "# Set the axis labels\n",
    "fig.text(0.0, 0.5, 'Ignition Delay, ms', verticalalignment='center', rotation='vertical')\n",
    "fig.text(0.5, 0.01, '$1000/T_C$, 1/K', horizontalalignment='center')\n",
    "\n",
    "# Set the a) b) figure labels\n",
    "ax_15_bar.text(0.6, 0.05, r'a) $P_C = 15\\ \\text{bar}$', transform=ax_15_bar.transAxes)\n",
    "ax_30_bar.text(0.6, 0.05, r'b) $P_C = 30\\ \\text{bar}$', transform=ax_30_bar.transAxes)\n",
    "\n",
    "# Create the temperature axes on the top\n",
    "def convert_inv_temp(temps):\n",
    "    \"\"\"Convert a list of temperatures to inverse temperature\"\"\"\n",
    "    return [1000.0/temp for temp in temps]\n",
    "\n",
    "ax_15_temp = ax_15_bar.twiny()\n",
    "ax_30_temp = ax_30_bar.twiny()\n",
    "\n",
    "# Set the major tick marks in the temperature scale and convert to inverse scale\n",
    "major_temps = np.arange(1100, 600, -100)\n",
    "major_ticks = convert_inv_temp(major_temps)\n",
    "\n",
    "# Set the interval for the minor ticks and compute the minor ticks\n",
    "minor_interval = 20\n",
    "minor_ticks = []\n",
    "for maj in major_temps:\n",
    "    minor_ticks.extend(convert_inv_temp([maj - i*minor_interval for i in range(5)]))\n",
    "\n",
    "# Set the ticks on the axis. Note that the limit setting must be present and must be after setting the ticks\n",
    "# so that the scale is correct\n",
    "ax_15_temp.set_xticks(major_ticks)\n",
    "ax_15_temp.set_xticks(minor_ticks, minor=True)\n",
    "ax_15_temp.set_xticklabels(['{:d} K'.format(temp) for temp in major_temps])\n",
    "ax_15_temp.set_xlim(ax_15_bar.get_xlim())\n",
    "ax_30_temp.set_xticks(major_ticks)\n",
    "ax_30_temp.set_xticks(minor_ticks, minor=True)\n",
    "ax_30_temp.set_xticklabels(['{:d} K'.format(temp) for temp in major_temps])\n",
    "ax_30_temp.set_xlim(ax_30_bar.get_xlim());"
   ]
  },
  {
   "cell_type": "code",
   "execution_count": 4,
   "metadata": {
    "collapsed": true
   },
   "outputs": [],
   "source": [
    "plot_opts_sim_line_15 = {}\n",
    "plot_opts_sim_det = {'linestyle': '-'}\n",
    "plot_opts_sim_line_30 = {}\n",
    "plot_opts_sim_rmg = {'linestyle': '--'}"
   ]
  },
  {
   "cell_type": "code",
   "execution_count": 5,
   "metadata": {},
   "outputs": [],
   "source": [
    "# phi_100_15_rmg = phi_100_15_bar.dropna(subset=['chem rmg (ms)']).sort_values(by='1000/Tc (1/K)')\n",
    "# phi_100_15_det = phi_100_15_bar.dropna(subset=['Detailed Model (ms)']).sort_values(by='1000/Tc (1/K)')\n",
    "phi_100_30_rmg = phi_100_30_bar.dropna(subset=['chem rmg (ms)']).sort_values(by='1000/Tc (1/K)')\n",
    "phi_100_30_det = phi_100_30_bar.dropna(subset=['Detailed Model (ms)']).sort_values(by='1000/Tc (1/K)')\n",
    "phi_100_30_rmg_temps = np.linspace(phi_100_30_rmg['1000/Tc (1/K)'].iloc[0], phi_100_30_rmg['1000/Tc (1/K)'].iloc[-1])\n",
    "phi_100_30_det_temps = np.linspace(phi_100_30_det['1000/Tc (1/K)'].iloc[0], phi_100_30_det['1000/Tc (1/K)'].iloc[-1])\n",
    "# ax_30_bar.plot(phi_100_30_rmg['1000/Tc (1/K)'], phi_100_30_rmg['chem rmg (ms)'], **plot_opts_sim_mark_30, **plot_opts_sim_rmg)\n",
    "spl = UnivariateSpline(phi_100_30_rmg['1000/Tc (1/K)'], np.log(phi_100_30_rmg['chem rmg (ms)']))\n",
    "ax_30_bar.plot(phi_100_30_rmg_temps, np.exp(spl(phi_100_30_rmg_temps)), color=phi_100_color, **plot_opts_sim_rmg)\n",
    "# ax_30_bar.plot(phi_100_30_det['1000/Tc (1/K)'], phi_100_30_det['Detailed Model (ms)'], **plot_opts_sim_mark_30, **plot_opts_sim_det)\n",
    "spl = UnivariateSpline(phi_100_30_det['1000/Tc (1/K)'], np.log(phi_100_30_det['Detailed Model (ms)']))\n",
    "ax_30_bar.plot(phi_100_30_det_temps, np.exp(spl(phi_100_30_det_temps)), color=phi_100_color, **plot_opts_sim_det);"
   ]
  },
  {
   "cell_type": "code",
   "execution_count": 6,
   "metadata": {
    "collapsed": true
   },
   "outputs": [],
   "source": [
    "phi_025_15_rmg = phi_025_15_bar.dropna(subset=['chem rmg (ms)']).sort_values(by='1000/Tc (1/K)')\n",
    "phi_025_15_det = phi_025_15_bar.dropna(subset=['Detailed Model (ms)']).sort_values(by='1000/Tc (1/K)')\n",
    "phi_025_15_rmg_temps = np.linspace(phi_025_15_rmg['1000/Tc (1/K)'].iloc[0], phi_025_15_rmg['1000/Tc (1/K)'].iloc[-1])\n",
    "phi_025_15_det_temps = np.linspace(phi_025_15_det['1000/Tc (1/K)'].iloc[0], phi_025_15_det['1000/Tc (1/K)'].iloc[-1])\n",
    "# ax_15_bar.plot(phi_025_15_rmg['1000/Tc (1/K)'], phi_025_15_rmg['chem rmg (ms)'], **plot_opts_sim_mark_15, **plot_opts_sim_rmg)\n",
    "spl = UnivariateSpline(phi_025_15_rmg['1000/Tc (1/K)'], np.log(phi_025_15_rmg['chem rmg (ms)']))\n",
    "ax_15_bar.plot(phi_025_15_rmg_temps, np.exp(spl(phi_025_15_rmg_temps)), color=phi_025_color, **plot_opts_sim_rmg)\n",
    "# ax_15_bar.plot(phi_025_15_det['1000/Tc (1/K)'], phi_025_15_det['Detailed Model (ms)'], **plot_opts_sim_mark_15, **plot_opts_sim_det)\n",
    "spl = UnivariateSpline(phi_025_15_det['1000/Tc (1/K)'], np.log(phi_025_15_det['Detailed Model (ms)']))\n",
    "ax_15_bar.plot(phi_025_15_det_temps, np.exp(spl(phi_025_15_det_temps)), color=phi_025_color, **plot_opts_sim_det);"
   ]
  },
  {
   "cell_type": "code",
   "execution_count": 7,
   "metadata": {
    "collapsed": true
   },
   "outputs": [],
   "source": [
    "phi_050_15_rmg = phi_050_15_bar.dropna(subset=['chem rmg (ms)']).sort_values(by='1000/Tc (1/K)')\n",
    "phi_050_15_det = phi_050_15_bar.dropna(subset=['Detailed Model (ms)']).sort_values(by='1000/Tc (1/K)')\n",
    "phi_050_15_rmg_temps = np.linspace(phi_050_15_rmg['1000/Tc (1/K)'].iloc[0], phi_050_15_rmg['1000/Tc (1/K)'].iloc[-1])\n",
    "phi_050_15_det_temps = np.linspace(phi_050_15_det['1000/Tc (1/K)'].iloc[0], phi_050_15_det['1000/Tc (1/K)'].iloc[-1])\n",
    "# ax_15_bar.plot(phi_050_15_rmg['1000/Tc (1/K)'], phi_050_15_rmg['chem rmg (ms)'], **plot_opts_sim_mark_15, **plot_opts_sim_rmg)\n",
    "spl = UnivariateSpline(phi_050_15_rmg['1000/Tc (1/K)'], np.log(phi_050_15_rmg['chem rmg (ms)']))\n",
    "ax_15_bar.plot(phi_050_15_rmg_temps, np.exp(spl(phi_050_15_rmg_temps)), color=phi_050_color, **plot_opts_sim_rmg)\n",
    "# ax_15_bar.plot(phi_050_15_det['1000/Tc (1/K)'], phi_050_15_det['Detailed Model (ms)'], **plot_opts_sim_mark_15, **plot_opts_sim_det)\n",
    "spl = UnivariateSpline(phi_050_15_det['1000/Tc (1/K)'], np.log(phi_050_15_det['Detailed Model (ms)']))\n",
    "ax_15_bar.plot(phi_050_15_det_temps, np.exp(spl(phi_050_15_det_temps)), color=phi_050_color, **plot_opts_sim_det);"
   ]
  },
  {
   "cell_type": "code",
   "execution_count": 8,
   "metadata": {
    "collapsed": true
   },
   "outputs": [],
   "source": [
    "phi_200_15_rmg = phi_200_15_bar.dropna(subset=['chem rmg (ms)']).sort_values(by='1000/Tc (1/K)')\n",
    "phi_200_15_det = phi_200_15_bar.dropna(subset=['Detailed Model (ms)']).sort_values(by='1000/Tc (1/K)')\n",
    "phi_200_15_rmg_temps = np.linspace(phi_200_15_rmg['1000/Tc (1/K)'].iloc[0], phi_200_15_rmg['1000/Tc (1/K)'].iloc[-1])\n",
    "phi_200_15_det_temps = np.linspace(phi_200_15_det['1000/Tc (1/K)'].iloc[0], phi_200_15_det['1000/Tc (1/K)'].iloc[-1])\n",
    "# ax_15_bar.plot(phi_200_15_rmg['1000/Tc (1/K)'], phi_200_15_rmg['chem rmg (ms)'], **plot_opts_sim_mark_15, **plot_opts_sim_rmg)\n",
    "spl = UnivariateSpline(phi_200_15_rmg['1000/Tc (1/K)'], np.log(phi_200_15_rmg['chem rmg (ms)']))\n",
    "ax_15_bar.plot(phi_200_15_rmg_temps, np.exp(spl(phi_200_15_rmg_temps)), color=phi_200_color, **plot_opts_sim_rmg)\n",
    "# ax_15_bar.plot(phi_200_15_det['1000/Tc (1/K)'], phi_200_15_det['Detailed Model (ms)'], **plot_opts_sim_mark_15, **plot_opts_sim_det)\n",
    "spl = UnivariateSpline(phi_200_15_det['1000/Tc (1/K)'], np.log(phi_200_15_det['Detailed Model (ms)']))\n",
    "ax_15_bar.plot(phi_200_15_det_temps, np.exp(spl(phi_200_15_det_temps)), color=phi_200_color, **plot_opts_sim_det);"
   ]
  },
  {
   "cell_type": "code",
   "execution_count": 9,
   "metadata": {},
   "outputs": [],
   "source": [
    "# Create the legend, removing the error bars\n",
    "handles, labels = ax_15_bar.get_legend_handles_labels()\n",
    "handles = [h[0] for h in handles]\n",
    "ha, la = ax_30_bar.get_legend_handles_labels()\n",
    "handles.insert(2, ha[0])\n",
    "labels.insert(2, la[0])\n",
    "\n",
    "rmg_sim = Line2D([], [], color='black', **plot_opts_sim_rmg)\n",
    "det_sim = Line2D([], [], color='black', **plot_opts_sim_det)\n",
    "\n",
    "handles.extend([rmg_sim, det_sim])\n",
    "labels.extend(['RMG Model (This Work)', r\"Di\\'evart et al.\\ \\cite{Dievart2013}\"])\n",
    "\n",
    "\n",
    "fig.legend(handles, labels, loc='upper center', numpoints=1, frameon=True, handletextpad=0.5, handlelength=1.25, ncol=6, columnspacing=1.25, borderaxespad=0.0);"
   ]
  },
  {
   "cell_type": "code",
   "execution_count": 10,
   "metadata": {
    "collapsed": true
   },
   "outputs": [],
   "source": [
    "fig.tight_layout()\n",
    "fig.subplots_adjust(top=0.84)\n",
    "fig.savefig('simulation-comparison.pgf')\n",
    "fig.savefig('simulation-comparison.pdf')"
   ]
  }
 ],
 "metadata": {
  "kernelspec": {
   "display_name": "Python [default]",
   "language": "python",
   "name": "python3"
  },
  "language_info": {
   "codemirror_mode": {
    "name": "ipython",
    "version": 3
   },
   "file_extension": ".py",
   "mimetype": "text/x-python",
   "name": "python",
   "nbconvert_exporter": "python",
   "pygments_lexer": "ipython3",
   "version": "3.6.1"
  }
 },
 "nbformat": 4,
 "nbformat_minor": 1
}
